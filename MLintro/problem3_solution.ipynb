{
 "cells": [
  {
   "cell_type": "markdown",
   "metadata": {},
   "source": [
    "# Problem 3. \n",
    "\n",
    "Having the following logic table\n",
    " \n",
    "| $X_1$ | $X_2$ | $X_1 \\& X_2$| $X_1 \\$ X_2$ |\n",
    "|   :-:   |   :-:   |       :-:     |       :-:      |\n",
    "|    0    |    0    |        1      |        0       |\n",
    "|    0    |    1    |        1      |        0       |\n",
    "|    1    |    0    |        1      |        0       |\n",
    "|    1    |    1    |        0      |        1       |\n",
    "\n",
    "Using Keras, construct an & and $ operator gate with a simple perceptron.\n",
    "\n",
    "If $A=[1.001 0 0.001 1]$, $B=[0 1 0 1]$ and $C=[0  1 1 0]$. Compute the operation \n",
    "( $( A \\& B ) \\$ C$ ) with the perceptron.\n"
   ]
  },
  {
   "cell_type": "code",
   "execution_count": null,
   "metadata": {},
   "outputs": [],
   "source": []
  },
  {
   "cell_type": "markdown",
   "metadata": {},
   "source": [
    "## AND Gate and NAND Gate\n"
   ]
  },
  {
   "cell_type": "code",
   "execution_count": null,
   "metadata": {},
   "outputs": [],
   "source": [
    "# AND Gate Data\n",
    "X_and = np.array([[0, 0], [0, 1], [1, 0], [1, 1]])\n",
    "y_and = np.array([[0], [0], [0], [1]])\n",
    "\n",
    "# NAND Gate Data\n",
    "X_nand = np.array([[0, 0], [0, 1], [1, 0], [1, 1]])\n",
    "y_nand = np.array([[1], [1], [1], [0]])"
   ]
  },
  {
   "cell_type": "markdown",
   "metadata": {},
   "source": [
    "## AND and NAND Gate Model\n"
   ]
  },
  {
   "cell_type": "code",
   "execution_count": null,
   "metadata": {},
   "outputs": [],
   "source": [
    "# AND Gate Model\n",
    "model_and = Sequential()\n",
    "model_and.add(\n",
    "model_and.compile(\n",
    "   \n",
    ")\n",
    "model_and.fit(X_and, y_and, epochs=1000, verbose=1)\n",
    "\n",
    "# NAND Gate Model\n",
    "model_nand = Sequential()\n",
    "model_nand.add(\n",
    "model_nand.compile(\n",
    ")\n",
    "model_nand.fit(X_nand, y_nand, epochs=1000, verbose=1)"
   ]
  },
  {
   "cell_type": "code",
   "execution_count": null,
   "metadata": {},
   "outputs": [],
   "source": [
    "# Function to plot decision boundary\n",
    "def plot_decision_boundary(model, X, y, title):\n",
    "    x_min, x_max = X[:, 0].min() - 1, X[:, 0].max() + 1\n",
    "    y_min, y_max = X[:, 1].min() - 1, X[:, 1].max() + 1\n",
    "    xx, yy = np.\n",
    "                \n",
    "    Z = model.predict(np.c_[xx.ravel(), yy.ravel()])\n",
    "    Z = Z.reshape(xx.shape)\n",
    "    plt.contourf(\n",
    "    plt.scatter(\n",
    "    plt.title(\n",
    "    plt.show()\n",
    "\n",
    "# Plot decision boundary for AND perceptron\n",
    "plot_decision_boundary(model_and, X_and, y_and, 'AND Perceptron Decision Boundary')\n",
    "\n",
    "# Plot decision boundary for XOR perceptron\n",
    "plot_decision_boundary(model_nand, X_nand, y_nand, 'NAND Perceptron Decision Boundary')"
   ]
  },
  {
   "cell_type": "markdown",
   "metadata": {},
   "source": [
    "## Compute the operation\n",
    "\n",
    "$(A \\& B) \\$ C$\n"
   ]
  },
  {
   "cell_type": "markdown",
   "metadata": {},
   "source": [
    "### input\n"
   ]
  },
  {
   "cell_type": "code",
   "execution_count": null,
   "metadata": {},
   "outputs": [],
   "source": [
    "A = np.array([1.001, 0, 0.001, 1]).reshape(-1, 1)\n",
    "B = np.array([0, 1, 0, 1]).reshape(-1, 1)\n",
    "C = np.array([0, 1, 1, 0]).reshape(-1, 1)"
   ]
  },
  {
   "cell_type": "markdown",
   "metadata": {},
   "source": [
    "### Compute\n",
    "\n",
    "$ A \\& B $\n"
   ]
  },
  {
   "cell_type": "code",
   "execution_count": null,
   "metadata": {},
   "outputs": [],
   "source": [
    "input_and = np.concatenate(\n",
    "output_and = model_and.predict(input_and)\n",
    "print(\"A & B:\", output_and)"
   ]
  },
  {
   "cell_type": "markdown",
   "metadata": {},
   "source": [
    "### Compute\n",
    "\n",
    "$ ANS \\$ C$\n"
   ]
  },
  {
   "cell_type": "code",
   "execution_count": null,
   "metadata": {},
   "outputs": [],
   "source": [
    "input_nand = np.concatenate(\n",
    "output_nand = model_nand.predict(input_nand)\n",
    "print(\"Result of (A & B) $ C:\", output_nand)"
   ]
  }
 ],
 "metadata": {
  "kernelspec": {
   "display_name": "ML",
   "language": "python",
   "name": "python3"
  },
  "language_info": {
   "codemirror_mode": {
    "name": "ipython",
    "version": 3
   },
   "file_extension": ".py",
   "mimetype": "text/x-python",
   "name": "python",
   "nbconvert_exporter": "python",
   "pygments_lexer": "ipython3",
   "version": "3.10.13"
  }
 },
 "nbformat": 4,
 "nbformat_minor": 2
}
