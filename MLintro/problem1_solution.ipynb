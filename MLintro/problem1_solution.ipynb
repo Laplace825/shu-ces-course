{
 "cells": [
  {
   "cell_type": "markdown",
   "metadata": {},
   "source": [
    "## Problem 1. \n",
    "\n",
    "Using the data set called problem1.csv **(x_training, y_training)** :\n",
    "\n",
    "+ Find the polynomial that fits the best training data\n",
    "+ Using the AIC criteria, find the best polynomial that can fit the data.\n",
    "+ Cross validate the polynomial with the data set called “problem1.csv (x_test, y_test)”\n"
   ]
  },
  {
   "cell_type": "code",
   "execution_count": null,
   "metadata": {},
   "outputs": [],
   "source": []
  },
  {
   "cell_type": "markdown",
   "metadata": {},
   "source": [
    "### load data"
   ]
  },
  {
   "cell_type": "code",
   "execution_count": null,
   "metadata": {},
   "outputs": [],
   "source": [
    "'''\n",
    "author: \"laplace\"\n",
    "date: 2024-06-17T17:53:00\n",
    "lastmod: 2024-06-19T00:52:51\n",
    "description:  \n",
    "filePath: /MLintro/problem1_solution.ipynb\n",
    "lastEditor: Laplace825\n",
    "Copyright: Copyright (c) 2024 by Laplace825, All Rights Reserved.\n",
    "'''\n",
    "data = pd.read_csv('./problem1.csv')\n",
    "data"
   ]
  },
  {
   "cell_type": "markdown",
   "metadata": {},
   "source": [
    "#### drop NaN and reshape data"
   ]
  },
  {
   "cell_type": "code",
   "execution_count": null,
   "metadata": {},
   "outputs": [],
   "source": [
    "X_train = \n",
    "y_train = \n",
    "X_test = \n",
    "y_test ="
   ]
  },
  {
   "cell_type": "markdown",
   "metadata": {},
   "source": [
    "### draw the data"
   ]
  },
  {
   "cell_type": "code",
   "execution_count": null,
   "metadata": {},
   "outputs": [],
   "source": [
    "plt.scatter(X_train, y_train)\n",
    "plt.xlabel('X_train')\n",
    "plt.ylabel('Y_train')\n",
    "plt.title('X_train vs Y_train')\n",
    "plt.show()"
   ]
  },
  {
   "cell_type": "markdown",
   "metadata": {},
   "source": [
    "### caculate the AIC scores"
   ]
  },
  {
   "cell_type": "code",
   "execution_count": null,
   "metadata": {},
   "outputs": [],
   "source": [
    "aic_scores = []\n",
    "degrees = list(i for i in range(  what ))\n",
    "for degree in range(1, 10):\n",
    "    poly_features = PolynomialFeatures(degree=degree)\n",
    "    X_train_poly = poly_features.fit_transform(X_train)\n",
    "    model = \n",
    "    aic_scores.append(model.aic)\n",
    "    X_continous = np.linspace(X_train.min(), X_train.max(), 1000).reshape(-1, 1)\n",
    "    X_continous_poly = poly_features.transform(X_continous)\n",
    "    y_pred = \n",
    "\n",
    "    # draw the original data\n",
    "    plt.scatter(X_train, y_train, color=\"blue\", label=\"Training data\")\n",
    "\n",
    "    # draw the polynomial model prediction\n",
    "    plt.plot(X_continous, y_pred, color=\"red\", label=\"Polynomial model\")\n",
    "\n",
    "    plt.xlabel(\"X\")\n",
    "    plt.ylabel(\"Y\")\n",
    "    plt.title(f\"Polynomial Regression Model (Degree {degree} AIC {model.aic:.2f})\")\n",
    "    plt.legend()\n",
    "    plt.show()"
   ]
  },
  {
   "cell_type": "markdown",
   "metadata": {},
   "source": [
    "### find the best model"
   ]
  },
  {
   "cell_type": "code",
   "execution_count": null,
   "metadata": {},
   "outputs": [],
   "source": [
    "best_degree = degrees[np.argmin(aic_scores)]\n",
    "print(f'Best polynomial degree: {best_degree}')\n",
    "\n",
    "# use the best degree to train the model\n",
    "poly_features_best = PolynomialFeatures(degree=best_degree)\n",
    "X_train_poly_best = poly_features_best.fit_transform(X_train)\n",
    "X_test_poly_best = poly_features_best.transform(X_test)\n",
    "model_best = \n",
    "\n",
    "print(model_best.summary())"
   ]
  },
  {
   "cell_type": "markdown",
   "metadata": {},
   "source": [
    "### cross validate the test data"
   ]
  },
  {
   "cell_type": "code",
   "execution_count": null,
   "metadata": {},
   "outputs": [],
   "source": [
    "y_pred = model_best.predict(X_test_poly_best)\n",
    "rmse = \n",
    "r2 = \n",
    "print(f'RMSE: {rmse}, R^2: {r2}')"
   ]
  }
 ],
 "metadata": {
  "kernelspec": {
   "display_name": "base",
   "language": "python",
   "name": "python3"
  },
  "language_info": {
   "codemirror_mode": {
    "name": "ipython",
    "version": 3
   },
   "file_extension": ".py",
   "mimetype": "text/x-python",
   "name": "python",
   "nbconvert_exporter": "python",
   "pygments_lexer": "ipython3",
   "version": "3.10.13"
  }
 },
 "nbformat": 4,
 "nbformat_minor": 2
}
